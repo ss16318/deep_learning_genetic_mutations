{
  "nbformat": 4,
  "nbformat_minor": 0,
  "metadata": {
    "colab": {
      "provenance": []
    },
    "kernelspec": {
      "name": "python3",
      "display_name": "Python 3"
    },
    "language_info": {
      "name": "python"
    }
  },
  "cells": [
    {
      "cell_type": "markdown",
      "source": [
        "# Logistic Regression\n",
        "\n",
        "A logistic regression model will be used as the baseline."
      ],
      "metadata": {
        "id": "l0FGT2sJ-GTN"
      }
    },
    {
      "cell_type": "markdown",
      "source": [
        "## Imports"
      ],
      "metadata": {
        "id": "sLL9bLy2-O0k"
      }
    },
    {
      "cell_type": "code",
      "execution_count": 3,
      "metadata": {
        "id": "6BgL4KcB90cQ"
      },
      "outputs": [],
      "source": [
        "import pandas as pd\n",
        "import numpy as np\n",
        "import matplotlib.pyplot as plt\n",
        "from sklearn.model_selection import cross_val_score, StratifiedKFold\n",
        "from sklearn.linear_model import LogisticRegression\n",
        "from sklearn.metrics import roc_auc_score"
      ]
    },
    {
      "cell_type": "code",
      "source": [
        "from google.colab import drive\n",
        "drive.mount('/content/drive')"
      ],
      "metadata": {
        "colab": {
          "base_uri": "https://localhost:8080/"
        },
        "id": "q16S5NqQ-TCq",
        "outputId": "1e4eb2f0-8d64-44a8-a848-63ba88a007aa"
      },
      "execution_count": 4,
      "outputs": [
        {
          "output_type": "stream",
          "name": "stdout",
          "text": [
            "Mounted at /content/drive\n"
          ]
        }
      ]
    },
    {
      "cell_type": "markdown",
      "source": [
        "## Load Data"
      ],
      "metadata": {
        "id": "BgglD4t3-d2K"
      }
    },
    {
      "cell_type": "code",
      "source": [
        "processed_data_path = '/content/drive/My Drive/Breast_Cancer_Detection/Processed_Data/'\n",
        "\n",
        "X_dev = np.load(processed_data_path + 'X_dev.npy')\n",
        "y_dev = np.load(processed_data_path + 'y_dev.npy')\n",
        "\n",
        "X_test = np.load(processed_data_path + 'X_test.npy')"
      ],
      "metadata": {
        "id": "Z24T8Hxp-fRy"
      },
      "execution_count": 5,
      "outputs": []
    },
    {
      "cell_type": "markdown",
      "source": [
        "## Sum features\n",
        "\n",
        "Each tile has 2048 features. To reduce dimensionality, we will sum all the features together for each tile."
      ],
      "metadata": {
        "id": "ZSZ-n5Og-7Vn"
      }
    },
    {
      "cell_type": "code",
      "source": [
        "X_dev_reshaped = X_dev.reshape(len(X_dev), 1000, 2048)\n",
        "X_dev_summed = X_dev_reshaped.sum(axis=2)\n",
        "\n",
        "X_test_reshaped = X_test.reshape(len(X_test), 1000, 2048)\n",
        "X_test_summed = X_test_reshaped.sum(axis=2)\n",
        "\n",
        "print(f'New X_dev shape: {X_dev_summed.shape}')\n",
        "print(f'New X_test shape: {X_test_summed.shape}')"
      ],
      "metadata": {
        "colab": {
          "base_uri": "https://localhost:8080/"
        },
        "id": "tjUUSvH8-yv3",
        "outputId": "5c3b897b-646e-4bb9-af52-07c109fbd45f"
      },
      "execution_count": 6,
      "outputs": [
        {
          "output_type": "stream",
          "name": "stdout",
          "text": [
            "New X_dev shape: (305, 1000)\n",
            "New X_test shape: (149, 1000)\n"
          ]
        }
      ]
    },
    {
      "cell_type": "markdown",
      "source": [
        "## Tile Pooling, Sorting and Averaging\n",
        "\n",
        "4 different logistic regression models will be trained:\n",
        "\n",
        "\n",
        "*   All tiles in each sample will be sorted and used as inputs (Sorted)\n",
        "*   The tiles will be averaged per sample and used as inputs (Mean Pooling)\n",
        "*   The max tile per sample will be used as inputs (Max Pooling)\n",
        "*   The top 5 max tiles per sample will be used as inputs (Top 5 Max Pooling)\n",
        "\n"
      ],
      "metadata": {
        "id": "J7eS1reOAoea"
      }
    },
    {
      "cell_type": "code",
      "source": [
        "# Sort features in descending order for each row\n",
        "X_dev_sorted = np.sort(X_dev_summed, axis=1)[:, ::-1]\n",
        "X_test_sorted = np.sort(X_test_summed, axis=1)[:, ::-1]\n",
        "\n",
        "# Mean Pool each row\n",
        "X_dev_mean = np.mean(X_dev_summed, axis=1)\n",
        "X_test_mean = np.mean(X_test_summed, axis=1)\n",
        "\n",
        "# Max Pool each row\n",
        "X_dev_max = X_dev_sorted[:, 0]\n",
        "X_test_max = X_test_sorted[:, 0]\n",
        "\n",
        "# Top 5 Max Pool each row\n",
        "X_dev_max_5 = X_dev_sorted[:, 0:2]\n",
        "X_test_max_5 = X_test_sorted[:, 0:2]"
      ],
      "metadata": {
        "id": "xz_u4epSBj9I"
      },
      "execution_count": 7,
      "outputs": []
    },
    {
      "cell_type": "markdown",
      "source": [
        "## Standarize Data"
      ],
      "metadata": {
        "id": "Nb-ZWTq3jEog"
      }
    },
    {
      "cell_type": "code",
      "source": [
        "def X_standardize(X_dev, X_test):\n",
        "\n",
        "    X_dev_flat = X_dev.flatten()\n",
        "\n",
        "    feature_mean = np.mean(X_dev_flat)\n",
        "    feature_std = np.std(X_dev_flat)\n",
        "\n",
        "    X_dev_scaled = (X_dev - feature_mean) / feature_std\n",
        "    X_test_scaled = (X_test - feature_mean) / feature_std\n",
        "\n",
        "    return X_dev_scaled, X_test_scaled"
      ],
      "metadata": {
        "id": "jLhL21ctHb8H"
      },
      "execution_count": 8,
      "outputs": []
    },
    {
      "cell_type": "markdown",
      "source": [
        "## Logistic Regression"
      ],
      "metadata": {
        "id": "L5hGsJEoFmyR"
      }
    },
    {
      "cell_type": "code",
      "source": [
        "def Logisitc_Regression(X_dev, y_dev, X_test):\n",
        "\n",
        "    # Scale the data\n",
        "    X_dev_scaled, X_test_scaled = X_standardize(X_dev, X_test)\n",
        "\n",
        "    if X_dev_scaled.ndim == 1:\n",
        "        X_dev_scaled = X_dev_scaled.reshape(-1, 1)\n",
        "        X_test_scaled = X_test_scaled.reshape(-1, 1)\n",
        "\n",
        "     # Data splitter for 5 stratified folds\n",
        "    cv = StratifiedKFold(n_splits=5, shuffle=True, random_state=42)\n",
        "\n",
        "    # Initialize empty lists to store AUC scores for validation\n",
        "    val_auc_scores = []\n",
        "\n",
        "    # Initialize empty lists to store test predictions\n",
        "    test_predictions = []\n",
        "\n",
        "    # Split the data into train and val using KFold\n",
        "    for train_idx, val_idx in cv.split(X_dev, y_dev):\n",
        "\n",
        "        # Train and Val Folds\n",
        "        X_train_fold, X_val_fold = X_dev_scaled[train_idx], X_dev_scaled[val_idx]\n",
        "        y_train_fold, y_val_fold = y_dev[train_idx], y_dev[val_idx]\n",
        "\n",
        "        # Create a logistic regression model\n",
        "        logistic_model = LogisticRegression(C=0.01, solver=\"liblinear\")\n",
        "\n",
        "        # Fit the model on the training data\n",
        "        logistic_model.fit(X_train_fold, y_train_fold)\n",
        "\n",
        "        # Predict the probabilities for validation and test sets\n",
        "        val_preds = logistic_model.predict_proba(X_val_fold)[:, 1]\n",
        "        test_preds = logistic_model.predict_proba(X_test_scaled)[:, 1]\n",
        "\n",
        "        # Calculate AUC for validation set\n",
        "        val_auc = roc_auc_score(y_val_fold, val_preds)\n",
        "        val_auc_scores.append(val_auc)\n",
        "\n",
        "        # Add test predictions\n",
        "        test_predictions.append(test_preds)\n",
        "\n",
        "    print(f'Average AUC: {np.mean(val_auc_scores)}')\n",
        "    print(f'Std AUC: {np.std(val_auc_scores)}')\n",
        "\n",
        "    average_test_predictions = np.mean(test_predictions, axis=0)\n",
        "\n",
        "    return average_test_predictions"
      ],
      "metadata": {
        "id": "ZbbNCmpQ0HlX"
      },
      "execution_count": 9,
      "outputs": []
    },
    {
      "cell_type": "markdown",
      "source": [
        "### All Instances"
      ],
      "metadata": {
        "id": "XYlDYIsAFqCS"
      }
    },
    {
      "cell_type": "code",
      "source": [
        "all_instances_pred = Logisitc_Regression(X_dev_sorted, y_dev, X_test_sorted)"
      ],
      "metadata": {
        "id": "i2npdNyOFtHj",
        "colab": {
          "base_uri": "https://localhost:8080/"
        },
        "outputId": "774a5954-2982-44f5-a7c7-639f1ae5f139"
      },
      "execution_count": 10,
      "outputs": [
        {
          "output_type": "stream",
          "name": "stdout",
          "text": [
            "Average AUC: 0.5615293935660068\n",
            "Std AUC: 0.050283000662414\n"
          ]
        }
      ]
    },
    {
      "cell_type": "markdown",
      "source": [
        "### Mean Pooling"
      ],
      "metadata": {
        "id": "UdrN6ggxkJcV"
      }
    },
    {
      "cell_type": "code",
      "source": [
        "mean_pred = Logisitc_Regression(X_dev_mean, y_dev, X_test_mean)"
      ],
      "metadata": {
        "id": "ssPg8L86kM-i",
        "colab": {
          "base_uri": "https://localhost:8080/"
        },
        "outputId": "312473c5-cd39-46c9-eb8d-15c9ff003d62"
      },
      "execution_count": 11,
      "outputs": [
        {
          "output_type": "stream",
          "name": "stdout",
          "text": [
            "Average AUC: 0.5847386023587398\n",
            "Std AUC: 0.04671089831833901\n"
          ]
        }
      ]
    },
    {
      "cell_type": "markdown",
      "source": [
        "### Max Pooling"
      ],
      "metadata": {
        "id": "AMwl6Gjamq6O"
      }
    },
    {
      "cell_type": "code",
      "source": [
        "max_pred = Logisitc_Regression(X_dev_max, y_dev, X_test_max)"
      ],
      "metadata": {
        "colab": {
          "base_uri": "https://localhost:8080/"
        },
        "id": "a74AjWFKmwGN",
        "outputId": "ce075932-8f4e-4ad3-9985-f015936e9b68"
      },
      "execution_count": 12,
      "outputs": [
        {
          "output_type": "stream",
          "name": "stdout",
          "text": [
            "Average AUC: 0.5491852160044379\n",
            "Std AUC: 0.04652345850923642\n"
          ]
        }
      ]
    },
    {
      "cell_type": "markdown",
      "source": [
        "### Top 5 Max Pooling"
      ],
      "metadata": {
        "id": "LC1TobpKnBlG"
      }
    },
    {
      "cell_type": "code",
      "source": [
        "max_5_pred = Logisitc_Regression(X_dev_max_5, y_dev, X_test_max_5)"
      ],
      "metadata": {
        "id": "SnogvL4q6Z37",
        "colab": {
          "base_uri": "https://localhost:8080/"
        },
        "outputId": "67edc0fb-0247-4c30-8041-6e792532c532"
      },
      "execution_count": 13,
      "outputs": [
        {
          "output_type": "stream",
          "name": "stdout",
          "text": [
            "Average AUC: 0.5612056136083596\n",
            "Std AUC: 0.030330855903588597\n"
          ]
        }
      ]
    },
    {
      "cell_type": "markdown",
      "source": [
        "## Saving Predictions"
      ],
      "metadata": {
        "id": "m8sj-_9o_3TB"
      }
    },
    {
      "cell_type": "code",
      "source": [
        "# Load metadata about each sample\n",
        "data_path = '/content/drive/My Drive/Breast_Cancer_Detection/Data/'\n",
        "df_test = pd.read_csv(data_path + \"test_metadata.csv\")\n",
        "\n",
        "# Join sample ID metadata with probability prediction\n",
        "all_tiles_submission = pd.DataFrame( {\"Sample ID\": df_test[\"Sample ID\"].values, \"Target\": all_instances_pred}).sort_values(\"Sample ID\")\n",
        "mean_pred_submission = pd.DataFrame( {\"Sample ID\": df_test[\"Sample ID\"].values, \"Target\": mean_pred}).sort_values(\"Sample ID\")\n",
        "max_pred_submission = pd.DataFrame( {\"Sample ID\": df_test[\"Sample ID\"].values, \"Target\": max_pred}).sort_values(\"Sample ID\")\n",
        "max_5_pred_submission = pd.DataFrame( {\"Sample ID\": df_test[\"Sample ID\"].values, \"Target\": max_5_pred}).sort_values(\"Sample ID\")"
      ],
      "metadata": {
        "id": "0KrjO4Od_6XD"
      },
      "execution_count": 14,
      "outputs": []
    },
    {
      "cell_type": "code",
      "source": [
        "def sanity_checks(submission):\n",
        "    assert all(submission[\"Target\"].between(0, 1)), \"`Target` values must be in [0, 1]\"\n",
        "    assert submission.shape == (149, 2), \"Your submission file must be of shape (149, 2)\"\n",
        "    assert list(submission.columns) == [\"Sample ID\", \"Target\",], \"Your submission file must have columns `Sample ID` and `Target`\"\n",
        "\n",
        "sanity_checks(all_tiles_submission)\n",
        "sanity_checks(mean_pred_submission)\n",
        "sanity_checks(max_pred_submission)\n",
        "sanity_checks(max_5_pred_submission)"
      ],
      "metadata": {
        "id": "_qXS28aPfx_6"
      },
      "execution_count": 15,
      "outputs": []
    },
    {
      "cell_type": "code",
      "source": [
        "# Save the submission as a csv file\n",
        "\n",
        "submission_path = '/content/drive/My Drive/Breast_Cancer_Detection/Predictions/'\n",
        "\n",
        "all_tiles_submission.to_csv(submission_path + \"all_tiles_submission.csv\", index=None)\n",
        "mean_pred_submission.to_csv(submission_path + \"mean_pred_submission.csv\", index=None)\n",
        "max_pred_submission.to_csv(submission_path + \"max_pred_submission.csv\", index=None)\n",
        "max_5_pred_submission.to_csv(submission_path + \"max_5_pred_submission.csv\", index=None)\n",
        "\n",
        "\n",
        "all_tiles_submission.head()"
      ],
      "metadata": {
        "id": "dHekYsuYfWLI",
        "colab": {
          "base_uri": "https://localhost:8080/",
          "height": 206
        },
        "outputId": "d10827a1-1d7d-453e-c9a2-fa9568d36d74"
      },
      "execution_count": 16,
      "outputs": [
        {
          "output_type": "execute_result",
          "data": {
            "text/plain": [
              "    Sample ID    Target\n",
              "0  ID_003.npy  0.355642\n",
              "1  ID_004.npy  0.352566\n",
              "2  ID_008.npy  0.362484\n",
              "3  ID_009.npy  0.230364\n",
              "4  ID_010.npy  0.393431"
            ],
            "text/html": [
              "\n",
              "  <div id=\"df-8f82a59b-3dd0-4451-aef1-46499626dec8\" class=\"colab-df-container\">\n",
              "    <div>\n",
              "<style scoped>\n",
              "    .dataframe tbody tr th:only-of-type {\n",
              "        vertical-align: middle;\n",
              "    }\n",
              "\n",
              "    .dataframe tbody tr th {\n",
              "        vertical-align: top;\n",
              "    }\n",
              "\n",
              "    .dataframe thead th {\n",
              "        text-align: right;\n",
              "    }\n",
              "</style>\n",
              "<table border=\"1\" class=\"dataframe\">\n",
              "  <thead>\n",
              "    <tr style=\"text-align: right;\">\n",
              "      <th></th>\n",
              "      <th>Sample ID</th>\n",
              "      <th>Target</th>\n",
              "    </tr>\n",
              "  </thead>\n",
              "  <tbody>\n",
              "    <tr>\n",
              "      <th>0</th>\n",
              "      <td>ID_003.npy</td>\n",
              "      <td>0.355642</td>\n",
              "    </tr>\n",
              "    <tr>\n",
              "      <th>1</th>\n",
              "      <td>ID_004.npy</td>\n",
              "      <td>0.352566</td>\n",
              "    </tr>\n",
              "    <tr>\n",
              "      <th>2</th>\n",
              "      <td>ID_008.npy</td>\n",
              "      <td>0.362484</td>\n",
              "    </tr>\n",
              "    <tr>\n",
              "      <th>3</th>\n",
              "      <td>ID_009.npy</td>\n",
              "      <td>0.230364</td>\n",
              "    </tr>\n",
              "    <tr>\n",
              "      <th>4</th>\n",
              "      <td>ID_010.npy</td>\n",
              "      <td>0.393431</td>\n",
              "    </tr>\n",
              "  </tbody>\n",
              "</table>\n",
              "</div>\n",
              "    <div class=\"colab-df-buttons\">\n",
              "\n",
              "  <div class=\"colab-df-container\">\n",
              "    <button class=\"colab-df-convert\" onclick=\"convertToInteractive('df-8f82a59b-3dd0-4451-aef1-46499626dec8')\"\n",
              "            title=\"Convert this dataframe to an interactive table.\"\n",
              "            style=\"display:none;\">\n",
              "\n",
              "  <svg xmlns=\"http://www.w3.org/2000/svg\" height=\"24px\" viewBox=\"0 -960 960 960\">\n",
              "    <path d=\"M120-120v-720h720v720H120Zm60-500h600v-160H180v160Zm220 220h160v-160H400v160Zm0 220h160v-160H400v160ZM180-400h160v-160H180v160Zm440 0h160v-160H620v160ZM180-180h160v-160H180v160Zm440 0h160v-160H620v160Z\"/>\n",
              "  </svg>\n",
              "    </button>\n",
              "\n",
              "  <style>\n",
              "    .colab-df-container {\n",
              "      display:flex;\n",
              "      gap: 12px;\n",
              "    }\n",
              "\n",
              "    .colab-df-convert {\n",
              "      background-color: #E8F0FE;\n",
              "      border: none;\n",
              "      border-radius: 50%;\n",
              "      cursor: pointer;\n",
              "      display: none;\n",
              "      fill: #1967D2;\n",
              "      height: 32px;\n",
              "      padding: 0 0 0 0;\n",
              "      width: 32px;\n",
              "    }\n",
              "\n",
              "    .colab-df-convert:hover {\n",
              "      background-color: #E2EBFA;\n",
              "      box-shadow: 0px 1px 2px rgba(60, 64, 67, 0.3), 0px 1px 3px 1px rgba(60, 64, 67, 0.15);\n",
              "      fill: #174EA6;\n",
              "    }\n",
              "\n",
              "    .colab-df-buttons div {\n",
              "      margin-bottom: 4px;\n",
              "    }\n",
              "\n",
              "    [theme=dark] .colab-df-convert {\n",
              "      background-color: #3B4455;\n",
              "      fill: #D2E3FC;\n",
              "    }\n",
              "\n",
              "    [theme=dark] .colab-df-convert:hover {\n",
              "      background-color: #434B5C;\n",
              "      box-shadow: 0px 1px 3px 1px rgba(0, 0, 0, 0.15);\n",
              "      filter: drop-shadow(0px 1px 2px rgba(0, 0, 0, 0.3));\n",
              "      fill: #FFFFFF;\n",
              "    }\n",
              "  </style>\n",
              "\n",
              "    <script>\n",
              "      const buttonEl =\n",
              "        document.querySelector('#df-8f82a59b-3dd0-4451-aef1-46499626dec8 button.colab-df-convert');\n",
              "      buttonEl.style.display =\n",
              "        google.colab.kernel.accessAllowed ? 'block' : 'none';\n",
              "\n",
              "      async function convertToInteractive(key) {\n",
              "        const element = document.querySelector('#df-8f82a59b-3dd0-4451-aef1-46499626dec8');\n",
              "        const dataTable =\n",
              "          await google.colab.kernel.invokeFunction('convertToInteractive',\n",
              "                                                    [key], {});\n",
              "        if (!dataTable) return;\n",
              "\n",
              "        const docLinkHtml = 'Like what you see? Visit the ' +\n",
              "          '<a target=\"_blank\" href=https://colab.research.google.com/notebooks/data_table.ipynb>data table notebook</a>'\n",
              "          + ' to learn more about interactive tables.';\n",
              "        element.innerHTML = '';\n",
              "        dataTable['output_type'] = 'display_data';\n",
              "        await google.colab.output.renderOutput(dataTable, element);\n",
              "        const docLink = document.createElement('div');\n",
              "        docLink.innerHTML = docLinkHtml;\n",
              "        element.appendChild(docLink);\n",
              "      }\n",
              "    </script>\n",
              "  </div>\n",
              "\n",
              "\n",
              "<div id=\"df-57cdf3ff-5d4b-4381-b34c-b4d06ac849c5\">\n",
              "  <button class=\"colab-df-quickchart\" onclick=\"quickchart('df-57cdf3ff-5d4b-4381-b34c-b4d06ac849c5')\"\n",
              "            title=\"Suggest charts\"\n",
              "            style=\"display:none;\">\n",
              "\n",
              "<svg xmlns=\"http://www.w3.org/2000/svg\" height=\"24px\"viewBox=\"0 0 24 24\"\n",
              "     width=\"24px\">\n",
              "    <g>\n",
              "        <path d=\"M19 3H5c-1.1 0-2 .9-2 2v14c0 1.1.9 2 2 2h14c1.1 0 2-.9 2-2V5c0-1.1-.9-2-2-2zM9 17H7v-7h2v7zm4 0h-2V7h2v10zm4 0h-2v-4h2v4z\"/>\n",
              "    </g>\n",
              "</svg>\n",
              "  </button>\n",
              "\n",
              "<style>\n",
              "  .colab-df-quickchart {\n",
              "      --bg-color: #E8F0FE;\n",
              "      --fill-color: #1967D2;\n",
              "      --hover-bg-color: #E2EBFA;\n",
              "      --hover-fill-color: #174EA6;\n",
              "      --disabled-fill-color: #AAA;\n",
              "      --disabled-bg-color: #DDD;\n",
              "  }\n",
              "\n",
              "  [theme=dark] .colab-df-quickchart {\n",
              "      --bg-color: #3B4455;\n",
              "      --fill-color: #D2E3FC;\n",
              "      --hover-bg-color: #434B5C;\n",
              "      --hover-fill-color: #FFFFFF;\n",
              "      --disabled-bg-color: #3B4455;\n",
              "      --disabled-fill-color: #666;\n",
              "  }\n",
              "\n",
              "  .colab-df-quickchart {\n",
              "    background-color: var(--bg-color);\n",
              "    border: none;\n",
              "    border-radius: 50%;\n",
              "    cursor: pointer;\n",
              "    display: none;\n",
              "    fill: var(--fill-color);\n",
              "    height: 32px;\n",
              "    padding: 0;\n",
              "    width: 32px;\n",
              "  }\n",
              "\n",
              "  .colab-df-quickchart:hover {\n",
              "    background-color: var(--hover-bg-color);\n",
              "    box-shadow: 0 1px 2px rgba(60, 64, 67, 0.3), 0 1px 3px 1px rgba(60, 64, 67, 0.15);\n",
              "    fill: var(--button-hover-fill-color);\n",
              "  }\n",
              "\n",
              "  .colab-df-quickchart-complete:disabled,\n",
              "  .colab-df-quickchart-complete:disabled:hover {\n",
              "    background-color: var(--disabled-bg-color);\n",
              "    fill: var(--disabled-fill-color);\n",
              "    box-shadow: none;\n",
              "  }\n",
              "\n",
              "  .colab-df-spinner {\n",
              "    border: 2px solid var(--fill-color);\n",
              "    border-color: transparent;\n",
              "    border-bottom-color: var(--fill-color);\n",
              "    animation:\n",
              "      spin 1s steps(1) infinite;\n",
              "  }\n",
              "\n",
              "  @keyframes spin {\n",
              "    0% {\n",
              "      border-color: transparent;\n",
              "      border-bottom-color: var(--fill-color);\n",
              "      border-left-color: var(--fill-color);\n",
              "    }\n",
              "    20% {\n",
              "      border-color: transparent;\n",
              "      border-left-color: var(--fill-color);\n",
              "      border-top-color: var(--fill-color);\n",
              "    }\n",
              "    30% {\n",
              "      border-color: transparent;\n",
              "      border-left-color: var(--fill-color);\n",
              "      border-top-color: var(--fill-color);\n",
              "      border-right-color: var(--fill-color);\n",
              "    }\n",
              "    40% {\n",
              "      border-color: transparent;\n",
              "      border-right-color: var(--fill-color);\n",
              "      border-top-color: var(--fill-color);\n",
              "    }\n",
              "    60% {\n",
              "      border-color: transparent;\n",
              "      border-right-color: var(--fill-color);\n",
              "    }\n",
              "    80% {\n",
              "      border-color: transparent;\n",
              "      border-right-color: var(--fill-color);\n",
              "      border-bottom-color: var(--fill-color);\n",
              "    }\n",
              "    90% {\n",
              "      border-color: transparent;\n",
              "      border-bottom-color: var(--fill-color);\n",
              "    }\n",
              "  }\n",
              "</style>\n",
              "\n",
              "  <script>\n",
              "    async function quickchart(key) {\n",
              "      const quickchartButtonEl =\n",
              "        document.querySelector('#' + key + ' button');\n",
              "      quickchartButtonEl.disabled = true;  // To prevent multiple clicks.\n",
              "      quickchartButtonEl.classList.add('colab-df-spinner');\n",
              "      try {\n",
              "        const charts = await google.colab.kernel.invokeFunction(\n",
              "            'suggestCharts', [key], {});\n",
              "      } catch (error) {\n",
              "        console.error('Error during call to suggestCharts:', error);\n",
              "      }\n",
              "      quickchartButtonEl.classList.remove('colab-df-spinner');\n",
              "      quickchartButtonEl.classList.add('colab-df-quickchart-complete');\n",
              "    }\n",
              "    (() => {\n",
              "      let quickchartButtonEl =\n",
              "        document.querySelector('#df-57cdf3ff-5d4b-4381-b34c-b4d06ac849c5 button');\n",
              "      quickchartButtonEl.style.display =\n",
              "        google.colab.kernel.accessAllowed ? 'block' : 'none';\n",
              "    })();\n",
              "  </script>\n",
              "</div>\n",
              "    </div>\n",
              "  </div>\n"
            ]
          },
          "metadata": {},
          "execution_count": 16
        }
      ]
    },
    {
      "cell_type": "code",
      "source": [
        "print(f'All Tiles mean: {round(np.mean(all_instances_pred),3)}, stdev: {round(np.std(all_instances_pred),3)}')\n",
        "print(f'Tile Mean mean: {round(np.mean(mean_pred),3)}, stdev: {round(np.std(mean_pred),3)}')\n",
        "print(f'Max Tile mean: {round(np.mean(max_pred),3)}, stdev: {round(np.std(max_pred),3)}')\n",
        "print(f'Top 5 tiles mean: {round(np.mean(max_5_pred),3)}, stdev: {round(np.std(max_5_pred),3)}')"
      ],
      "metadata": {
        "id": "GGxx38Rw_xow",
        "colab": {
          "base_uri": "https://localhost:8080/"
        },
        "outputId": "f1a06215-5e87-47fa-f20b-25548db9e096"
      },
      "execution_count": 17,
      "outputs": [
        {
          "output_type": "stream",
          "name": "stdout",
          "text": [
            "All Tiles mean: 0.362, stdev: 0.055\n",
            "Tile Mean mean: 0.444, stdev: 0.018\n",
            "Max Tile mean: 0.442, stdev: 0.015\n",
            "Top 5 tiles mean: 0.432, stdev: 0.023\n"
          ]
        }
      ]
    }
  ]
}