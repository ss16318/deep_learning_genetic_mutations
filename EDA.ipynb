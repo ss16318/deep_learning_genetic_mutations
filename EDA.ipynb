{
  "cells": [
    {
      "cell_type": "markdown",
      "metadata": {
        "id": "ReXM5prhReh0"
      },
      "source": [
        "# Breast Cancer Research Project EDA"
      ]
    },
    {
      "cell_type": "markdown",
      "metadata": {
        "id": "Tp5c5ItQReh2"
      },
      "source": [
        "## Introduction"
      ]
    },
    {
      "cell_type": "markdown",
      "metadata": {
        "id": "jqc72z4-Reh2"
      },
      "source": [
        "## Imports"
      ]
    },
    {
      "cell_type": "code",
      "execution_count": 1,
      "metadata": {
        "id": "6rwe8Yl3Reh3"
      },
      "outputs": [],
      "source": [
        "import pandas as pd\n",
        "from tqdm import tqdm\n",
        "import numpy as np\n",
        "import matplotlib.pyplot as plt\n",
        "from sklearn.preprocessing import StandardScaler"
      ]
    },
    {
      "cell_type": "code",
      "source": [
        "from google.colab import drive\n",
        "drive.mount('/content/drive')"
      ],
      "metadata": {
        "colab": {
          "base_uri": "https://localhost:8080/"
        },
        "id": "UB3Oa9wuRqQF",
        "outputId": "8c91c2fb-8a73-4fa2-c68f-7a41026801fc"
      },
      "execution_count": 2,
      "outputs": [
        {
          "output_type": "stream",
          "name": "stdout",
          "text": [
            "Mounted at /content/drive\n"
          ]
        }
      ]
    },
    {
      "cell_type": "markdown",
      "metadata": {
        "id": "qb6QFFN1Reh4"
      },
      "source": [
        "## Load Data"
      ]
    },
    {
      "cell_type": "code",
      "execution_count": 3,
      "metadata": {
        "id": "a5_FRAXZReh4",
        "colab": {
          "base_uri": "https://localhost:8080/"
        },
        "outputId": "e0bc175f-4cb0-4ac3-8235-680497b40be0"
      },
      "outputs": [
        {
          "output_type": "stream",
          "name": "stdout",
          "text": [
            "Training Metadata Shape: (344, 3)\n",
            "Testing Metadata Shape: (149, 3)\n",
            "\n",
            "    Sample ID Patient ID Center ID\n",
            "0  ID_001.npy      P_001       C_1\n",
            "1  ID_002.npy      P_002       C_2\n",
            "2  ID_005.npy      P_005       C_5\n",
            "3  ID_006.npy      P_006       C_5\n",
            "4  ID_007.npy      P_007       C_2\n",
            "5  ID_012.npy      P_012       C_1\n",
            "6  ID_013.npy      P_013       C_2\n",
            "7  ID_014.npy      P_014       C_5\n",
            "8  ID_016.npy      P_016       C_1\n",
            "9  ID_018.npy      P_018       C_2\n"
          ]
        }
      ],
      "source": [
        "# Load Metadata\n",
        "data_path = '/content/drive/My Drive/Breast_Cancer_Detection/Data/'\n",
        "\n",
        "df_metadata_train = pd.read_csv(data_path + \"train_metadata.csv\")\n",
        "df_metadata_test = pd.read_csv(data_path + \"test_metadata.csv\")\n",
        "\n",
        "print('Training Metadata Shape: ' + str(df_metadata_train.shape))\n",
        "print('Testing Metadata Shape: ' + str(df_metadata_test.shape) + '\\n')\n",
        "print(df_metadata_train.head(10))"
      ]
    },
    {
      "cell_type": "markdown",
      "metadata": {
        "id": "Od7HmYw0Reh5"
      },
      "source": [
        "The metadata is for each sample and includes patient ID and the center ID.\n",
        "Also note that we have 344 training samples and 149 test samples."
      ]
    },
    {
      "cell_type": "code",
      "execution_count": 4,
      "metadata": {
        "id": "Z4uZKKevReh6"
      },
      "outputs": [],
      "source": [
        "# Load Training Targets\n",
        "df_output_train = pd.read_csv(data_path + \"train_output.csv\")\n",
        "\n",
        "# Merge Metadata and Targets for training data\n",
        "df_metadata_y_train = df_metadata_train.merge(df_output_train, on=\"Sample ID\")"
      ]
    },
    {
      "cell_type": "code",
      "execution_count": 5,
      "metadata": {
        "id": "sUrUTJ7bReh6",
        "colab": {
          "base_uri": "https://localhost:8080/"
        },
        "outputId": "4be74b78-b336-44d7-d272-f4c56256f79d"
      },
      "outputs": [
        {
          "output_type": "stream",
          "name": "stderr",
          "text": [
            "100%|██████████| 344/344 [03:31<00:00,  1.63it/s]\n"
          ]
        }
      ],
      "source": [
        "# Load Training Data\n",
        "X_train = []\n",
        "y_train = []\n",
        "centers_train = []\n",
        "patients_train = []\n",
        "zoom_train = []\n",
        "coordinates_train = []\n",
        "\n",
        "\n",
        "for sample, label, center, patient in tqdm(df_metadata_y_train[[\"Sample ID\", \"Target\", \"Center ID\", \"Patient ID\"]].values):\n",
        "\n",
        "    # Load the coordinates and features (1000, 3+2048)\n",
        "    all_features = np.load(data_path + 'train/moco_features/' + sample)\n",
        "\n",
        "    # Check each sample has 1000 tiles\n",
        "    num_tiles = len(all_features)\n",
        "    if num_tiles != 1000:\n",
        "        print(\"Error: Sample does not have exactly 1000 tiles. This will cause errors.\")\n",
        "\n",
        "    # Remove the coordinates and zoom from MoCo features\n",
        "    features = all_features[:, 3:]\n",
        "    # Store zoom for each sample\n",
        "    zoom = all_features[:, 0]\n",
        "    # Store coordinates for each sample\n",
        "    coordinates = all_features[:, 1:3]\n",
        "\n",
        "    # Store all the data for each sample in 1 row (this will be reshaped back later)\n",
        "    X_train.append(features.flatten())\n",
        "\n",
        "    # Store data label and other metadata\n",
        "    y_train.append(label)\n",
        "    centers_train.append(center)\n",
        "    patients_train.append(patient)\n",
        "    zoom_train.append(zoom.flatten())\n",
        "    coordinates_train.append(coordinates.flatten())\n",
        "\n",
        "# Convert to numpy arrays\n",
        "X_train = np.array(X_train).astype(np.float16) # float32 too big for laptop memory\n",
        "y_train = np.array(y_train)\n",
        "centers_train = np.array(centers_train)\n",
        "patients_train = np.array(patients_train)\n",
        "zoom_train = np.array(zoom_train)\n",
        "coordinates_train = np.array(coordinates_train)\n",
        "\n",
        "# Save shape of features for reshaping X_train\n",
        "feat_shape = np.shape(features)\n"
      ]
    },
    {
      "cell_type": "markdown",
      "metadata": {
        "id": "8ed8-cd_Reh8"
      },
      "source": [
        "The training set comprises of 344 images. These images are extremely large, so 1000 tiles in each were selected to reduce dimensionality. From each tile, 2048 MoCo features were extracted to further reduce dimensionality.\n",
        "\n",
        "In the training set, we have 344 Numpy array with each array storing the MoCo features from each image. Each Numpy array has 1000 rows, each row represents a snippet from the sample image, and 2051 columns, 2048 columns store MoCo features and 3 columns store the zoom and coordinates of the snippet.\n",
        "\n",
        "In the cell above, we seperate the training data into arrays of:\n",
        "- X_train : MoCo features only\n",
        "- y_train : if the snippet is part of image with cancer (0 or 1)\n",
        "- centers_train : metadata about where the sample was taken\n",
        "- patients_train : metadata about who the sample was taken from\n",
        "- zoom_train : metadata about the zoom of the snippet\n",
        "- coordinates_train : metadata about where the snippet was located in the image"
      ]
    },
    {
      "cell_type": "code",
      "execution_count": 6,
      "metadata": {
        "id": "FBUW4N3aReh8",
        "colab": {
          "base_uri": "https://localhost:8080/"
        },
        "outputId": "cca2bf6d-bfac-4718-e8f3-0ca557d59f93"
      },
      "outputs": [
        {
          "output_type": "stream",
          "name": "stderr",
          "text": [
            "100%|██████████| 149/149 [01:29<00:00,  1.66it/s]\n"
          ]
        }
      ],
      "source": [
        "# Load Testing Data\n",
        "\n",
        "X_test = []\n",
        "centers_test = []\n",
        "patients_test = []\n",
        "zoom_test = []\n",
        "coordinates_test = []\n",
        "\n",
        "# Process test data (remove coordintes and flatten each sample into a row)\n",
        "for sample, center, patient in tqdm(df_metadata_test[[\"Sample ID\", \"Center ID\", \"Patient ID\"]].values):\n",
        "\n",
        "    all_features = np.load(data_path + 'test/moco_features/' + sample)\n",
        "\n",
        "    features = all_features[:, 3:]\n",
        "    zoom = all_features[:, 0]\n",
        "    coordinates = all_features[:, 1:3]\n",
        "    X_test.append(features.flatten())\n",
        "\n",
        "    centers_test.append(center)\n",
        "    patients_test.append(patient)\n",
        "    zoom_test.append(zoom.flatten())\n",
        "    coordinates_test.append(coordinates.flatten())\n",
        "\n",
        "\n",
        "X_test = np.array(X_test).astype(np.float16)\n",
        "centers_test = np.array(centers_test)\n",
        "patients_test = np.array(patients_test)\n",
        "zoom_test = np.array(zoom_test)\n",
        "coordinates_test = np.array(coordinates_test)"
      ]
    },
    {
      "cell_type": "markdown",
      "metadata": {
        "id": "WmzaDLl6Reh8"
      },
      "source": [
        "A similar process has been taken to prepare the test data as was done with the training data. As this dataset was taken from an online challenge (https://challengedata.ens.fr/participants/challenges/98/), the test targets are not available. However, model outputs will be upload to the challenges submission page and the performance measured."
      ]
    },
    {
      "cell_type": "markdown",
      "metadata": {
        "id": "cdcbzVQLReh9"
      },
      "source": [
        "## EDA"
      ]
    },
    {
      "cell_type": "markdown",
      "metadata": {
        "id": "ZVaxF9SqReh9"
      },
      "source": [
        "### Class Distribution"
      ]
    },
    {
      "cell_type": "code",
      "execution_count": 7,
      "metadata": {
        "id": "1H7_nwTbReh9",
        "colab": {
          "base_uri": "https://localhost:8080/"
        },
        "outputId": "3a79f02d-ffaa-4911-c988-85158f370fbc"
      },
      "outputs": [
        {
          "output_type": "stream",
          "name": "stdout",
          "text": [
            "Fraction with cancer: 37.21%\n",
            "Fraction without cancer: 62.79%\n"
          ]
        }
      ],
      "source": [
        "# Class Distribution\n",
        "\n",
        "count_postive_cases = np.count_nonzero(y_train == 1)\n",
        "count_negative_cases = np.count_nonzero(y_train == 0)\n",
        "\n",
        "print(\"Fraction with cancer: \" + str(round(100*count_postive_cases / (count_postive_cases+count_negative_cases), 2)) + \"%\" )\n",
        "print(\"Fraction without cancer: \" + str(round(100*count_negative_cases / (count_postive_cases+count_negative_cases), 2)) + \"%\" )"
      ]
    },
    {
      "cell_type": "markdown",
      "metadata": {
        "id": "22BL5rhvReh9"
      },
      "source": [
        "The class distribution is sufficiently imbalanced such that a stratefied data split is necessary."
      ]
    },
    {
      "cell_type": "markdown",
      "metadata": {
        "id": "oAmLIHBeReh9"
      },
      "source": [
        "### Center Patterns"
      ]
    },
    {
      "cell_type": "code",
      "execution_count": 8,
      "metadata": {
        "id": "4gbAP_xIReh-",
        "colab": {
          "base_uri": "https://localhost:8080/"
        },
        "outputId": "1aadc7f9-2591-47d7-8938-f46568279e7c"
      },
      "outputs": [
        {
          "output_type": "stream",
          "name": "stdout",
          "text": [
            "Number of unique centers in traing data: 3\n",
            "Unique centers: ['C_1' 'C_2' 'C_5'] \n",
            "\n",
            "Number of unique centers in testing center: 2\n",
            "Unique centers: ['C_3' 'C_4']\n"
          ]
        }
      ],
      "source": [
        "# Investigate centers\n",
        "\n",
        "unique_centers_train = np.unique(centers_train)\n",
        "num_unique_centers_train = len(unique_centers_train)\n",
        "\n",
        "print(\"Number of unique centers in traing data:\", num_unique_centers_train)\n",
        "print(\"Unique centers:\", unique_centers_train , '\\n')\n",
        "\n",
        "unique_centers_test = np.unique(centers_test)\n",
        "num_unique_centers_test = len(unique_centers_test)\n",
        "\n",
        "print(\"Number of unique centers in testing center:\", num_unique_centers_test)\n",
        "print(\"Unique centers:\", unique_centers_test)"
      ]
    },
    {
      "cell_type": "markdown",
      "metadata": {
        "id": "RoAlVzyaReh-"
      },
      "source": [
        "As the test centers differ from the centers in the training set, it will be important to ensure that model does not overfit on information regarding the center."
      ]
    },
    {
      "cell_type": "code",
      "execution_count": 9,
      "metadata": {
        "id": "p76EL4zkReh-",
        "colab": {
          "base_uri": "https://localhost:8080/",
          "height": 472
        },
        "outputId": "286941f6-39b7-4691-c424-3eb262701eb0"
      },
      "outputs": [
        {
          "output_type": "display_data",
          "data": {
            "text/plain": [
              "<Figure size 640x480 with 1 Axes>"
            ],
            "image/png": "[encoded data removed]"
          },
          "metadata": {}
        }
      ],
      "source": [
        "# Merge centers_train and centers_test\n",
        "all_centers = np.concatenate([centers_train, centers_test])\n",
        "\n",
        "# Count the occurrences of each center\n",
        "unique_centers, center_counts = np.unique(all_centers, return_counts=True)\n",
        "\n",
        "# Define colors for train and test centers\n",
        "colors = ['blue' if center_id in centers_train else 'orange' for center_id in unique_centers]\n",
        "\n",
        "# Create a bar plot with legend\n",
        "bars = plt.bar(unique_centers, center_counts, color=colors)\n",
        "plt.xlabel('Center ID')\n",
        "plt.ylabel('Sample Count')\n",
        "plt.title('Sample Count per Center')\n",
        "legend_labels = ['Train Centers', 'Test Centers']\n",
        "legend_handles = [plt.Rectangle((0, 0), 1, 1, color='blue'), plt.Rectangle((0, 0), 1, 1, color='orange')]\n",
        "plt.legend(legend_handles, legend_labels)\n",
        "plt.xticks(unique_centers)\n",
        "plt.show()"
      ]
    },
    {
      "cell_type": "markdown",
      "metadata": {
        "id": "FvVGlWn4Reh_"
      },
      "source": [
        "As the number of patients per centre in the training set is fairly similar, a random split of samples from these centers should be sufficient (in other words a startified split is not necessary)."
      ]
    },
    {
      "cell_type": "code",
      "execution_count": 10,
      "metadata": {
        "id": "82HmxNNYReh_",
        "colab": {
          "base_uri": "https://localhost:8080/",
          "height": 472
        },
        "outputId": "fe86645f-6b78-4291-8770-cdf813d4eca1"
      },
      "outputs": [
        {
          "output_type": "display_data",
          "data": {
            "text/plain": [
              "<Figure size 640x480 with 1 Axes>"
            ],
            "image/png": "[encoded data removed]"
          },
          "metadata": {}
        }
      ],
      "source": [
        "# Merge y_train and centers_train as two columns\n",
        "centers_labels = np.column_stack((y_train, centers_train))\n",
        "\n",
        "# Create a stacked bar plot with legend\n",
        "unique_centers, center_counts = np.unique(centers_train, return_counts=True)\n",
        "\n",
        "# Initialize lists to store positive and negative counts per center\n",
        "center_positive_counts = []\n",
        "center_negative_counts = []\n",
        "\n",
        "for center_id in unique_centers:\n",
        "    positive_count = np.sum((centers_labels[:, 0] == '1') & (centers_labels[:, 1] == center_id))\n",
        "    negative_count = np.sum((centers_labels[:, 0] == '0') & (centers_labels[:, 1] == center_id))\n",
        "    center_positive_counts.append(positive_count)\n",
        "    center_negative_counts.append(negative_count)\n",
        "\n",
        "# Define colors for positive and negative cases\n",
        "colors = ['green', 'red']\n",
        "\n",
        "# Create a bar plot for positive cases\n",
        "plt.bar(unique_centers, center_positive_counts, color=colors[1], label='Genetic Mutation')\n",
        "# Create a bar plot for negative cases, stacked on top of positive cases\n",
        "plt.bar(unique_centers, center_negative_counts, bottom=center_positive_counts, color=colors[0], label='No Genetic Mutation')\n",
        "\n",
        "plt.xlabel('Center ID')\n",
        "plt.ylabel('Sample Count')\n",
        "plt.title('Sample Count per Center')\n",
        "plt.legend()\n",
        "plt.xticks(unique_centers)\n",
        "plt.show()"
      ]
    },
    {
      "cell_type": "markdown",
      "metadata": {
        "id": "EJ2Lu7wCReh_"
      },
      "source": [
        "The distribution of cancer cases across centers is fairly consistent (roughly 40-60), which again indicates that a random split across centers is sufficient."
      ]
    },
    {
      "cell_type": "markdown",
      "metadata": {
        "id": "i5uA1KSwReh_"
      },
      "source": [
        "### Patient Patterns"
      ]
    },
    {
      "cell_type": "code",
      "execution_count": 11,
      "metadata": {
        "id": "eYtqmn-yReiA",
        "colab": {
          "base_uri": "https://localhost:8080/"
        },
        "outputId": "c35603b1-ac4c-4ed9-95ac-012949d92541"
      },
      "outputs": [
        {
          "output_type": "stream",
          "name": "stdout",
          "text": [
            "Total number of samples:  344\n",
            "Total number of patients:  305\n"
          ]
        }
      ],
      "source": [
        "# Count the occurrences of each patient\n",
        "unique_patients, patient_counts = np.unique(patients_train, return_counts=True)\n",
        "\n",
        "print(\"Total number of samples: \", len(y_train))\n",
        "print(\"Total number of patients: \", len(unique_patients))"
      ]
    },
    {
      "cell_type": "markdown",
      "metadata": {
        "id": "fjx69sHtReiA"
      },
      "source": [
        "Some patients have multiple samples. Let's analyze these patients with multiple samples"
      ]
    },
    {
      "cell_type": "code",
      "execution_count": 12,
      "metadata": {
        "id": "VxGLQZ7YReiA",
        "colab": {
          "base_uri": "https://localhost:8080/"
        },
        "outputId": "3aa737a0-3ec0-4a4f-a7e7-c46644ed3f2d"
      },
      "outputs": [
        {
          "output_type": "stream",
          "name": "stdout",
          "text": [
            "Patients with 2 samples: 37\n",
            "Patients with 3 samples: 1\n"
          ]
        }
      ],
      "source": [
        "# Count the occurrences of each count value\n",
        "count_occurrences = np.bincount(patient_counts)\n",
        "\n",
        "# Iterate through counts and print patients\n",
        "for count, occurrences in enumerate(count_occurrences):\n",
        "    if count > 1:\n",
        "        print(f'Patients with {count} samples: {occurrences}')"
      ]
    },
    {
      "cell_type": "markdown",
      "metadata": {
        "id": "peoYxoRiReiA"
      },
      "source": [
        "Most patient with multiple samples only have 2 samples."
      ]
    },
    {
      "cell_type": "code",
      "execution_count": 13,
      "metadata": {
        "id": "8f8yg9uGReiA",
        "colab": {
          "base_uri": "https://localhost:8080/"
        },
        "outputId": "618d4a50-0b1e-4377-8d2c-0ef1bc53ee95"
      },
      "outputs": [
        {
          "output_type": "stream",
          "name": "stdout",
          "text": [
            "Labels for patient with 3 samples: ['1' '1' '1'] \n",
            "\n",
            "Patients with 2 samples:\n",
            "Label 0 twice: 23 patients\n",
            "Label 1 twice: 14 patients\n",
            "Label 0 and 1: 0 patients\n"
          ]
        }
      ],
      "source": [
        "# Combine patient_ids and y_train into a 2D array\n",
        "patient_label = np.column_stack((patients_train, y_train))\n",
        "\n",
        "# Initialize counters\n",
        "label_0_twice = 0\n",
        "label_1_twice = 0\n",
        "label_0_1 = 0\n",
        "\n",
        "# Iterate through unique patient_ids\n",
        "for patient_id in unique_patients:\n",
        "    # Get the rows corresponding to the current patient_id\n",
        "    rows = patient_label[patient_label[:, 0] == patient_id]\n",
        "\n",
        "    # Update counters based on label occurrences\n",
        "    if len(rows) == 2:\n",
        "\n",
        "        if np.all(rows[:, 1] == '0'):\n",
        "            label_0_twice += 1\n",
        "\n",
        "        elif np.all(rows[:, 1] == '1'):\n",
        "            label_1_twice += 1\n",
        "\n",
        "        else:\n",
        "            label_0_1 += 1\n",
        "\n",
        "    if len(rows) == 3:\n",
        "        print(f'Labels for patient with 3 samples: {rows[:, 1]} \\n')\n",
        "\n",
        "print('Patients with 2 samples:')\n",
        "print(f\"Label 0 twice: {label_0_twice} patients\")\n",
        "print(f\"Label 1 twice: {label_1_twice} patients\")\n",
        "print(f\"Label 0 and 1: {label_0_1} patients\")"
      ]
    },
    {
      "cell_type": "markdown",
      "metadata": {
        "id": "NUUv8GONReiB"
      },
      "source": [
        "All patients with multiple samples have the same label for each sample. While one option would be to randomly drop samples from each of these patients, so that the model does not overfit for each patient as each patient only has one sample, I think it is wise to keep all samples from these patients as the dataset is fairly small and these samples could be viewed as augmented data."
      ]
    },
    {
      "cell_type": "markdown",
      "metadata": {
        "id": "kVmYlBIIReiB"
      },
      "source": [
        "### Zoom Patterns"
      ]
    },
    {
      "cell_type": "code",
      "execution_count": 14,
      "metadata": {
        "id": "hGZdhsymReiB",
        "colab": {
          "base_uri": "https://localhost:8080/",
          "height": 472
        },
        "outputId": "195203f5-6682-45c2-9054-0c7daa2a3327"
      },
      "outputs": [
        {
          "output_type": "display_data",
          "data": {
            "text/plain": [
              "<Figure size 640x480 with 1 Axes>"
            ],
            "image/png": "[encoded data removed]"
          },
          "metadata": {}
        }
      ],
      "source": [
        "# Flatten the 1D array\n",
        "zoom_train_flat = zoom_train.flatten()\n",
        "zoom_test_flat = zoom_test.flatten()\n",
        "\n",
        "# Create a histogram for training data\n",
        "plt.hist(zoom_train_flat, bins=np.arange(13, 20, 1), color='blue', alpha=0.5, label='Training Data')\n",
        "plt.xlabel('Zoom Values')\n",
        "plt.ylabel('Frequency')\n",
        "plt.title('Histogram of Zoom Values')\n",
        "plt.grid(True)\n",
        "\n",
        "# Get the current y-axis ticks and labels\n",
        "y_ticks, y_tick_labels = plt.yticks()\n",
        "new_y_tick_labels = [str(int(float(label.get_text()) / 1000)) for label in y_tick_labels]\n",
        "plt.yticks(y_ticks, new_y_tick_labels)\n",
        "\n",
        "# Plot the histogram for test data on top in orange\n",
        "plt.hist(zoom_test_flat, bins=np.arange(13, 20, 1), color='orange', alpha=0.5, label='Test Data')\n",
        "plt.legend()\n",
        "\n",
        "# Show the histogram\n",
        "plt.show()"
      ]
    },
    {
      "cell_type": "code",
      "source": [
        "# Set the bin edges\n",
        "bin_edges = np.arange(13, 20, 1)\n",
        "\n",
        "# Calculate histograms for training and test data\n",
        "hist_train, _ = np.histogram(zoom_train_flat, bins=bin_edges)\n",
        "hist_test, _ = np.histogram(zoom_test_flat, bins=bin_edges)\n",
        "\n",
        "# Set the width of the bars (adjust as needed)\n",
        "bar_width = 0.4\n",
        "\n",
        "# Set the positions for the bars\n",
        "x_train = bin_edges[:-1] - bar_width / 2\n",
        "x_test = bin_edges[:-1] + bar_width / 2\n",
        "\n",
        "# Create the grouped bar chart\n",
        "plt.bar(x_train, hist_train, width=bar_width, color='blue', label='Training Data')\n",
        "plt.bar(x_test, hist_test, width=bar_width, color='orange', label='Test Data')\n",
        "\n",
        "# Customize the plot\n",
        "plt.xlabel('Zoom Values')\n",
        "plt.ylabel('Number of Samples')\n",
        "plt.title('Grouped Bar Chart of Zoom Values')\n",
        "\n",
        "# Get the current y-axis ticks and labels\n",
        "y_ticks, y_tick_labels = plt.yticks()\n",
        "new_y_tick_labels = [str(int(float(label.get_text()) / 1000)) for label in y_tick_labels]\n",
        "plt.yticks(y_ticks, new_y_tick_labels)\n",
        "\n",
        "# Set the x-axis ticks to match the bin edges\n",
        "plt.xticks(bin_edges)\n",
        "\n",
        "# Add a legend\n",
        "plt.legend()\n",
        "\n",
        "# Show the grouped bar chart\n",
        "plt.show()"
      ],
      "metadata": {
        "id": "x10e2lnHapqi",
        "colab": {
          "base_uri": "https://localhost:8080/",
          "height": 472
        },
        "outputId": "53281958-396a-4bf2-cd03-1d6186f449b0"
      },
      "execution_count": 15,
      "outputs": [
        {
          "output_type": "display_data",
          "data": {
            "text/plain": [
              "<Figure size 640x480 with 1 Axes>"
            ],
            "image/png": "[encoded data removed]"
          },
          "metadata": {}
        }
      ]
    },
    {
      "cell_type": "markdown",
      "metadata": {
        "id": "TyrxckryReiB"
      },
      "source": [
        "In the training and test sets most zooms tend to be 16 (histograms in matplotlib are left inclusive and zoom levels are integers). However, the test set has disproportionatley more samples with zoom 15 than the test does, and conversely the train set has disproportionatley more samples at zoom 17 than the test set. Moreover, the test set has a sample with zoom 14, which the training set does not have.\n",
        "\n",
        "I assume that samples are taken at multiple zooms, therefore, there is no need to do a stratified split based on zoom level.\n",
        "\n",
        "Note: maybe look into training the network at 1 zoom level?"
      ]
    },
    {
      "cell_type": "markdown",
      "metadata": {
        "id": "QAZa9Q9MReiC"
      },
      "source": [
        "### MoCo Feature Patterns\n",
        "\n",
        "There are 2048 MoCo features, which makes it hard to visualize and explore. For now we will omit exploration of these features, however, we may return to them to look at:\n",
        "- Dimensionality Reduction (eg. PCA)\n",
        "- Correlations with target variable\n",
        "- Clustering"
      ]
    },
    {
      "cell_type": "markdown",
      "metadata": {
        "id": "paW9P1DWReiC"
      },
      "source": [
        "### Coordinate Patterns\n",
        "\n",
        "I would hypothesize that snippets indicating the presence of cancer are localized (that is close together). While individual snippets are unlabeled, we could measure patterns of how 'co-locatedness' of snippets in samples with and without cancer. If there is a pattern, we could work on incorporating it into the model. An example of this would be add a node in the MLP quantifying 'co-locatedness' of the top instances (this idea will become clearer as we continue)."
      ]
    },
    {
      "cell_type": "markdown",
      "metadata": {
        "id": "JrCvFupQReiC"
      },
      "source": [
        "## EDA Conclusions:\n",
        "\n",
        "- Stratified split based on class distribution is necessary due to the imbalance\n",
        "- Patients and class disribution is fairly evenly split across centers\n",
        "- Most patients have 1 sample, but the patients with multiple samples have the same label for all their samples\n",
        "- We will include all samples from each patient (may need to reconsider this decision)\n",
        "- Snippets are taken at different zooms (most being at 15). We will use snippets from all zooms, but it may be better to train the model on snippets from 1 zoom\n",
        "- MoCo features have too many dimensions for initial EDA, but we may revisit their patterns later\n",
        "- Coordinate patterns are difficult to measure, but we may revisit their patterns later"
      ]
    }
  ],
  "metadata": {
    "kernelspec": {
      "display_name": "base",
      "language": "python",
      "name": "python3"
    },
    "language_info": {
      "codemirror_mode": {
        "name": "ipython",
        "version": 3
      },
      "file_extension": ".py",
      "mimetype": "text/x-python",
      "name": "python",
      "nbconvert_exporter": "python",
      "pygments_lexer": "ipython3",
      "version": "3.11.4"
    },
    "orig_nbformat": 4,
    "colab": {
      "provenance": []
    }
  },
  "nbformat": 4,
  "nbformat_minor": 0
}