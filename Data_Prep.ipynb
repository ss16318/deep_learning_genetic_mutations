{
  "cells": [
    {
      "cell_type": "markdown",
      "metadata": {
        "id": "ReXM5prhReh0"
      },
      "source": [
        "# Data Preparation"
      ]
    },
    {
      "cell_type": "markdown",
      "metadata": {
        "id": "jqc72z4-Reh2"
      },
      "source": [
        "## Imports"
      ]
    },
    {
      "cell_type": "code",
      "execution_count": null,
      "metadata": {
        "id": "6rwe8Yl3Reh3"
      },
      "outputs": [],
      "source": [
        "import pandas as pd\n",
        "from tqdm import tqdm\n",
        "import numpy as np"
      ]
    },
    {
      "cell_type": "code",
      "source": [
        "from google.colab import drive\n",
        "drive.mount('/content/drive')"
      ],
      "metadata": {
        "colab": {
          "base_uri": "https://localhost:8080/"
        },
        "id": "UB3Oa9wuRqQF",
        "outputId": "78ae1f6d-f364-4a13-c224-ab748aa3cad5"
      },
      "execution_count": null,
      "outputs": [
        {
          "output_type": "stream",
          "name": "stdout",
          "text": [
            "Mounted at /content/drive\n"
          ]
        }
      ]
    },
    {
      "cell_type": "markdown",
      "metadata": {
        "id": "qb6QFFN1Reh4"
      },
      "source": [
        "## Load Data"
      ]
    },
    {
      "cell_type": "code",
      "execution_count": null,
      "metadata": {
        "colab": {
          "base_uri": "https://localhost:8080/"
        },
        "id": "a5_FRAXZReh4",
        "outputId": "6077520a-7194-4cbe-f128-0b8c3c2b6524"
      },
      "outputs": [
        {
          "output_type": "stream",
          "name": "stdout",
          "text": [
            "Training Metadata Shape: (344, 3)\n",
            "Testing Metadata Shape: (149, 3)\n",
            "\n"
          ]
        }
      ],
      "source": [
        "# Load Metadata\n",
        "data_path = '/content/drive/My Drive/Breast_Cancer_Detection/Data/'\n",
        "\n",
        "df_metadata_train = pd.read_csv(data_path + \"train_metadata.csv\")\n",
        "df_metadata_test = pd.read_csv(data_path + \"test_metadata.csv\")\n",
        "\n",
        "print('Training Metadata Shape: ' + str(df_metadata_train.shape))\n",
        "print('Testing Metadata Shape: ' + str(df_metadata_test.shape) + '\\n')"
      ]
    },
    {
      "cell_type": "code",
      "execution_count": null,
      "metadata": {
        "id": "Z4uZKKevReh6"
      },
      "outputs": [],
      "source": [
        "# Load Training Targets\n",
        "df_output_train = pd.read_csv(data_path + \"train_output.csv\")\n",
        "\n",
        "# Merge Metadata and Targets for training data\n",
        "df_metadata_y_train = df_metadata_train.merge(df_output_train, on=\"Sample ID\")"
      ]
    },
    {
      "cell_type": "code",
      "execution_count": null,
      "metadata": {
        "colab": {
          "base_uri": "https://localhost:8080/"
        },
        "id": "sUrUTJ7bReh6",
        "outputId": "c7d11dd4-3001-46bb-e5a8-723c89389769"
      },
      "outputs": [
        {
          "output_type": "stream",
          "name": "stderr",
          "text": [
            "100%|██████████| 344/344 [02:20<00:00,  2.44it/s]\n"
          ]
        }
      ],
      "source": [
        "# Load Training Data\n",
        "X_train = []\n",
        "y_train = []\n",
        "centers_train = []\n",
        "patients_train = []\n",
        "zoom_train = []\n",
        "coordinates_train = []\n",
        "\n",
        "\n",
        "for sample, label, center, patient in tqdm(df_metadata_y_train[[\"Sample ID\", \"Target\", \"Center ID\", \"Patient ID\"]].values):\n",
        "\n",
        "    if patient not in patients_train:   # prevents duplicate patients in training set\n",
        "\n",
        "        # Load the coordinates and features (1000, 3+2048)\n",
        "        all_features = np.load(data_path + 'train/moco_features/' + sample)\n",
        "\n",
        "        # Check each sample has 1000 tiles\n",
        "        num_tiles = len(all_features)\n",
        "        if num_tiles != 1000:\n",
        "            print(\"Error: Sample does not have exactly 1000 tiles. This will cause errors.\")\n",
        "\n",
        "        # Remove the coordinates and zoom from MoCo features\n",
        "        features = all_features[:, 3:]\n",
        "        # Store zoom for each sample\n",
        "        zoom = all_features[:, 0]\n",
        "        # Store coordinates for each sample\n",
        "        coordinates = all_features[:, 1:3]\n",
        "\n",
        "        # Store all the data for each sample in 1 row (this will be reshaped back later)\n",
        "        X_train.append(features.flatten())\n",
        "\n",
        "        # Store data label and other metadata\n",
        "        y_train.append(label)\n",
        "        centers_train.append(center)\n",
        "        patients_train.append(patient)\n",
        "        zoom_train.append(zoom.flatten())\n",
        "        coordinates_train.append(coordinates.flatten())\n",
        "\n",
        "# Convert to numpy arrays\n",
        "X_train = np.array(X_train)\n",
        "y_train = np.array(y_train)\n",
        "centers_train = np.array(centers_train)\n",
        "patients_train = np.array(patients_train)\n",
        "zoom_train = np.array(zoom_train)\n",
        "coordinates_train = np.array(coordinates_train)\n",
        "\n",
        "# Save shape of features for reshaping X_train\n",
        "feat_shape = np.shape(features)\n"
      ]
    },
    {
      "cell_type": "code",
      "source": [
        "print(f' X_train shape: {X_train.shape}')\n",
        "print(f' y_train shape: {y_train.shape}')\n",
        "print(f' centers_train shape: {centers_train.shape}')\n",
        "print(f' patients_train shape: {patients_train.shape}')\n",
        "print(f' zoom_train shape: {zoom_train.shape}')\n",
        "print(f' coordinates_train shape: {coordinates_train.shape}')"
      ],
      "metadata": {
        "colab": {
          "base_uri": "https://localhost:8080/"
        },
        "id": "sqvOKevq6k51",
        "outputId": "b3890b10-e075-4fb6-b8cc-f74a104fcd79"
      },
      "execution_count": null,
      "outputs": [
        {
          "output_type": "stream",
          "name": "stdout",
          "text": [
            " X_train shape: (305, 2048000)\n",
            " y_train shape: (305,)\n",
            " centers_train shape: (305,)\n",
            " patients_train shape: (305,)\n",
            " zoom_train shape: (305, 1000)\n",
            " coordinates_train shape: (305, 2000)\n"
          ]
        }
      ]
    },
    {
      "cell_type": "code",
      "execution_count": null,
      "metadata": {
        "colab": {
          "base_uri": "https://localhost:8080/"
        },
        "id": "FBUW4N3aReh8",
        "outputId": "868402a2-6c37-4812-e45b-3e5609c53c06"
      },
      "outputs": [
        {
          "output_type": "stream",
          "name": "stderr",
          "text": [
            "100%|██████████| 149/149 [01:04<00:00,  2.33it/s]\n"
          ]
        }
      ],
      "source": [
        "# Load Testing Data\n",
        "\n",
        "X_test = []\n",
        "centers_test = []\n",
        "patients_test = []\n",
        "zoom_test = []\n",
        "coordinates_test = []\n",
        "\n",
        "# Process test data (remove coordintes and flatten each sample into a row)\n",
        "for sample, center, patient in tqdm(df_metadata_test[[\"Sample ID\", \"Center ID\", \"Patient ID\"]].values):\n",
        "\n",
        "    all_features = np.load(data_path + 'test/moco_features/' + sample)\n",
        "\n",
        "    features = all_features[:, 3:]\n",
        "    zoom = all_features[:, 0]\n",
        "    coordinates = all_features[:, 1:3]\n",
        "    X_test.append(features.flatten())\n",
        "\n",
        "    centers_test.append(center)\n",
        "    patients_test.append(patient)\n",
        "    zoom_test.append(zoom.flatten())\n",
        "    coordinates_test.append(coordinates.flatten())\n",
        "\n",
        "\n",
        "X_test = np.array(X_test).astype(np.float16)\n",
        "centers_test = np.array(centers_test)\n",
        "patients_test = np.array(patients_test)\n",
        "zoom_test = np.array(zoom_test)\n",
        "coordinates_test = np.array(coordinates_test)"
      ]
    },
    {
      "cell_type": "markdown",
      "source": [
        "## Save Data"
      ],
      "metadata": {
        "id": "isTBohWf8S8u"
      }
    },
    {
      "cell_type": "code",
      "source": [
        "processed_data_path = '/content/drive/My Drive/Breast_Cancer_Detection/Processed_Data/'\n",
        "\n",
        "np.save(processed_data_path + 'X_dev.npy', X_train)\n",
        "np.save(processed_data_path + 'X_test.npy', X_test)\n",
        "\n",
        "np.save(processed_data_path + 'y_dev.npy', y_train)\n",
        "\n",
        "np.save(processed_data_path + 'centers_dev.npy', centers_train)\n",
        "np.save(processed_data_path + 'patients_dev.npy', patients_train)\n",
        "np.save(processed_data_path + 'zoom_train.npy', zoom_train)\n",
        "np.save(processed_data_path + 'coordinates_dev.npy', coordinates_train)\n",
        "\n",
        "\n",
        "np.save(processed_data_path + 'centers_test.npy', centers_test)\n",
        "np.save(processed_data_path + 'patients_test.npy', patients_test)\n",
        "np.save(processed_data_path + 'zoom_test.npy', zoom_test)\n",
        "np.save(processed_data_path + 'coordinates_test.npy', coordinates_test)\n"
      ],
      "metadata": {
        "id": "PaS2049YkwOO"
      },
      "execution_count": null,
      "outputs": []
    }
  ],
  "metadata": {
    "kernelspec": {
      "display_name": "base",
      "language": "python",
      "name": "python3"
    },
    "language_info": {
      "codemirror_mode": {
        "name": "ipython",
        "version": 3
      },
      "file_extension": ".py",
      "mimetype": "text/x-python",
      "name": "python",
      "nbconvert_exporter": "python",
      "pygments_lexer": "ipython3",
      "version": "3.11.4"
    },
    "orig_nbformat": 4,
    "colab": {
      "provenance": []
    }
  },
  "nbformat": 4,
  "nbformat_minor": 0
}